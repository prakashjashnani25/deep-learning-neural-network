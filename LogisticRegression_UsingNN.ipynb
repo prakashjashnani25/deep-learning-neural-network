{
  "nbformat": 4,
  "nbformat_minor": 0,
  "metadata": {
    "colab": {
      "name": "LogisticRegression_UsingNN.ipynb",
      "provenance": [],
      "authorship_tag": "ABX9TyNnaR2dFqwcp4l8OIfMNVBw",
      "include_colab_link": true
    },
    "kernelspec": {
      "name": "python3",
      "display_name": "Python 3"
    },
    "language_info": {
      "name": "python"
    }
  },
  "cells": [
    {
      "cell_type": "markdown",
      "metadata": {
        "id": "view-in-github",
        "colab_type": "text"
      },
      "source": [
        "<a href=\"https://colab.research.google.com/github/prakashjashnani25/deep-learning-neural-network/blob/main/LogisticRegression_UsingNN.ipynb\" target=\"_parent\"><img src=\"https://colab.research.google.com/assets/colab-badge.svg\" alt=\"Open In Colab\"/></a>"
      ]
    },
    {
      "cell_type": "markdown",
      "source": [
        "Logistic Regression Using Neural Network\n",
        "\n",
        "\n",
        "*   Usage Of Vectorization\n",
        "*   Calculating Cost Function\n",
        "\n",
        "*   Calculating Gradint and usage of optimization algorithm GD\n",
        "\n",
        "\n",
        "\n",
        "\n",
        "\n",
        "\n"
      ],
      "metadata": {
        "id": "cG1bZFZRP6_i"
      }
    },
    {
      "cell_type": "code",
      "source": [
        "#importing packages\n",
        "import numpy as np\n",
        "import matplotlib.pyplot as plt"
      ],
      "metadata": {
        "id": "Nt80L1pVQrA_"
      },
      "execution_count": 1,
      "outputs": []
    },
    {
      "cell_type": "markdown",
      "source": [
        "Make Sure Copy .h5 file \"train*\" and \"test*\" from git hub and uploaded to collobartaive / local environment."
      ],
      "metadata": {
        "id": "RGPTWfnPUqci"
      }
    },
    {
      "cell_type": "code",
      "source": [
        "import numpy as np\n",
        "import h5py\n",
        "    \n",
        "    \n",
        "def load_dataset():\n",
        "    train_dataset = h5py.File('/content/sample_data/train_catvnoncat.h5', \"r\")\n",
        "    train_set_x_orig = np.array(train_dataset[\"train_set_x\"][:]) # your train set features\n",
        "    train_set_y_orig = np.array(train_dataset[\"train_set_y\"][:]) # your train set labels\n",
        "\n",
        "    test_dataset = h5py.File('/content/sample_data/test_catvnoncat.h5', \"r\")\n",
        "    test_set_x_orig = np.array(test_dataset[\"test_set_x\"][:]) # your test set features\n",
        "    test_set_y_orig = np.array(test_dataset[\"test_set_y\"][:]) # your test set labels\n",
        "\n",
        "    classes = np.array(test_dataset[\"list_classes\"][:]) # the list of classes\n",
        "    \n",
        "    train_set_y_orig = train_set_y_orig.reshape((1, train_set_y_orig.shape[0]))\n",
        "    test_set_y_orig = test_set_y_orig.reshape((1, test_set_y_orig.shape[0]))\n",
        "    \n",
        "    return train_set_x_orig, train_set_y_orig, test_set_x_orig, test_set_y_orig, classes"
      ],
      "metadata": {
        "id": "aF912xiyQ7jA"
      },
      "execution_count": 23,
      "outputs": []
    },
    {
      "cell_type": "code",
      "source": [
        "# Loading the data (cat/non-cat)\n",
        "train_set_x_orig, train_set_y, test_set_x_orig, test_set_y, classes = load_dataset()"
      ],
      "metadata": {
        "id": "p-KNZqgrR9j6"
      },
      "execution_count": 22,
      "outputs": []
    },
    {
      "cell_type": "code",
      "source": [
        "#Shape , Size of the data \n",
        "type(train_set_x_orig), train_set_x_orig.shape, test_set_x_orig.shape\n",
        "m_train = train_set_x_orig.shape[0]\n",
        "m_test=test_set_x_orig.shape[0]\n",
        "num_px=train_set_x_orig.shape[1]\n",
        "m_train,m_test,num_px"
      ],
      "metadata": {
        "colab": {
          "base_uri": "https://localhost:8080/"
        },
        "id": "CWSQuQT7TdpL",
        "outputId": "823a91b2-3a1f-4038-9b77-fdc8c72e2374"
      },
      "execution_count": 37,
      "outputs": [
        {
          "output_type": "execute_result",
          "data": {
            "text/plain": [
              "(209, 50, 64)"
            ]
          },
          "metadata": {},
          "execution_count": 37
        }
      ]
    },
    {
      "cell_type": "code",
      "source": [
        "print (\"Number of training examples: m_train = \" + str(m_train))\n",
        "print (\"Number of testing examples: m_test = \" + str(m_test))\n",
        "print (\"Height/Width of each image: num_px = \" + str(num_px))\n",
        "print (\"Each image is of size: (\" + str(num_px) + \", \" + str(num_px) + \", 3)\")\n",
        "print (\"train_set_x shape: \" + str(train_set_x_orig.shape))\n",
        "print (\"train_set_y shape: \" + str(train_set_y.shape))\n",
        "print (\"test_set_x shape: \" + str(test_set_x_orig.shape))\n",
        "print (\"test_set_y shape: \" + str(test_set_y.shape))"
      ],
      "metadata": {
        "colab": {
          "base_uri": "https://localhost:8080/"
        },
        "id": "GjfMJNK1WSbs",
        "outputId": "eae17621-d874-480e-af4f-eeebab4c8d76"
      },
      "execution_count": 38,
      "outputs": [
        {
          "output_type": "stream",
          "name": "stdout",
          "text": [
            "Number of training examples: m_train = 209\n",
            "Number of testing examples: m_test = 50\n",
            "Height/Width of each image: num_px = 64\n",
            "Each image is of size: (64, 64, 3)\n",
            "train_set_x shape: (209, 64, 64, 3)\n",
            "train_set_y shape: (1, 209)\n",
            "test_set_x shape: (50, 64, 64, 3)\n",
            "test_set_y shape: (1, 50)\n"
          ]
        }
      ]
    },
    {
      "cell_type": "code",
      "source": [
        "# Example of a picture\n",
        "index = 25\n",
        "plt.imshow(train_set_x_orig[index])\n",
        "print (\"y = \" + str(train_set_y[:, index]) + \", it's a '\" + classes[np.squeeze(train_set_y[:, index])].decode(\"utf-8\") +  \"' picture.\")"
      ],
      "metadata": {
        "colab": {
          "base_uri": "https://localhost:8080/",
          "height": 285
        },
        "id": "_SX4OwreU8zC",
        "outputId": "8cb28267-fd9c-4713-ef51-0c6b2397c190"
      },
      "execution_count": 27,
      "outputs": [
        {
          "output_type": "stream",
          "name": "stdout",
          "text": [
            "y = [1], it's a 'cat' picture.\n"
          ]
        },
        {
          "output_type": "display_data",
          "data": {
            "image/png": "[encoded data removed]",
            "text/plain": [
              "<Figure size 432x288 with 1 Axes>"
            ]
          },
          "metadata": {
            "needs_background": "light"
          }
        }
      ]
    },
    {
      "cell_type": "markdown",
      "source": [
        "# Reshaping the training and test example ( Flatten to numpy array)"
      ],
      "metadata": {
        "id": "1R2NOkSUWcxj"
      }
    },
    {
      "cell_type": "code",
      "source": [
        "X_flatten=train_set_x_orig.reshape(num_px*num_px*3,m_train)\n",
        "y_flatten=test_set_x_orig.reshape(num_px*num_px*3,m_test)\n"
      ],
      "metadata": {
        "id": "qJtBOrTGVE7J"
      },
      "execution_count": 41,
      "outputs": []
    },
    {
      "cell_type": "code",
      "source": [
        "#Normalization ( Normalizing pixel values to 0 to 1 )\n",
        "X=X_flatten/255\n",
        "y=y_flatten/255"
      ],
      "metadata": {
        "id": "xiVotgclXLaR"
      },
      "execution_count": 42,
      "outputs": []
    },
    {
      "cell_type": "markdown",
      "source": [
        "Proble Statement here is to distuniguish between cat and non cat images using Logistic regression"
      ],
      "metadata": {
        "id": "_m8zWYR-Z1SH"
      }
    },
    {
      "cell_type": "code",
      "source": [
        "#Helper Function ( sigmoid Activation)\n",
        "def sigmoid(z):\n",
        "  # sigmoid(z) = 1/ (1+e pow -z) , e = np.exp()\n",
        "  return 1 / (1 + np.exp(-z))\n",
        "\n",
        "print (\"sigmoid([0, 2]) = \" + str(sigmoid(np.array([0,2]))))\n",
        "x = np.array([0.5, 0, 2.0])\n",
        "output = sigmoid(x)\n",
        "print(output)"
      ],
      "metadata": {
        "colab": {
          "base_uri": "https://localhost:8080/"
        },
        "id": "Kx14QhKsZnHJ",
        "outputId": "4760ad29-6ba2-447c-f0e4-10a7bcb3aef7"
      },
      "execution_count": 47,
      "outputs": [
        {
          "output_type": "stream",
          "name": "stdout",
          "text": [
            "sigmoid([0, 2]) = [0.5        0.88079708]\n",
            "[0.62245933 0.5        0.88079708]\n"
          ]
        }
      ]
    },
    {
      "cell_type": "markdown",
      "source": [
        "Initializing Parameters"
      ],
      "metadata": {
        "id": "4oapNnyEbRXj"
      }
    },
    {
      "cell_type": "code",
      "source": [
        "def init_with_zeros(dim):\n",
        "  w = np.zeros((dim,1),dtype=float)#weight matrix\n",
        "  b = 0.0#bias\n",
        "  return w,b\n",
        "#Test\n",
        "dim=2\n",
        "w,b=init_with_zeros(dim)\n",
        "w,b"
      ],
      "metadata": {
        "colab": {
          "base_uri": "https://localhost:8080/"
        },
        "id": "ID-LjRsrauCZ",
        "outputId": "524ff80f-29e4-4b51-b37f-a81ba5b6f57a"
      },
      "execution_count": 50,
      "outputs": [
        {
          "output_type": "execute_result",
          "data": {
            "text/plain": [
              "(array([[0.],\n",
              "        [0.]]), 0.0)"
            ]
          },
          "metadata": {},
          "execution_count": 50
        }
      ]
    },
    {
      "cell_type": "markdown",
      "source": [
        "Forward and Backward Propagation"
      ],
      "metadata": {
        "id": "9yORFQ66c9ZP"
      }
    },
    {
      "cell_type": "code",
      "source": [
        "'''\n",
        "  Arguments:\n",
        "    w -- weights, a numpy array of size (num_px * num_px * 3, 1)\n",
        "    b -- bias, a scalar\n",
        "'''\n",
        "def propagate(w,b,X,y):\n",
        "  m = X.shape[1]#Number of samples\n",
        "  #Forward Prop\n",
        "      # operation performed on each nuron ==> wX+b -> \n",
        "      # apply a activation function\n",
        "      # Calculate Cost ( Use Logistic Cost functions)\n",
        "  z = np.dot(w.T, X)+b\n",
        "  A=sigmoid(z)\n",
        "  cost = np.sum(((- np.log(A))*y + (-np.log(1-A))*(1-y)))/m\n",
        "  #Backward Prop\n",
        "    # Calculate Loss \n",
        "  dw = (np.dot(X,(A-y).T))/m\n",
        "  db = (np.sum(A-y))/m\n",
        "  \n",
        "  cost = np.squeeze(np.array(cost))\n",
        "\n",
        "    \n",
        "  grads = {\"dw\": dw,\n",
        "             \"db\": db}\n",
        "    \n",
        "  return grads, cost\n"
      ],
      "metadata": {
        "id": "wRIvrPNkcJIv"
      },
      "execution_count": 51,
      "outputs": []
    },
    {
      "cell_type": "code",
      "source": [
        "w =  np.array([[1.], [2]])\n",
        "b = 1.5\n",
        "X = np.array([[1., -2., -1.], [3., 0.5, -3.2]])\n",
        "Y = np.array([[1, 1, 0]])\n",
        "grads, cost = propagate(w, b, X, Y)"
      ],
      "metadata": {
        "id": "Y5HHf0fAg43l"
      },
      "execution_count": 52,
      "outputs": []
    },
    {
      "cell_type": "markdown",
      "source": [
        "Optimization"
      ],
      "metadata": {
        "id": "A8CM3vRQhAy6"
      }
    },
    {
      "cell_type": "code",
      "source": [
        "\"\"\"\n",
        "    This function optimizes w and b by running a gradient descent algorithm\n",
        "    \n",
        "    Arguments:\n",
        "    w -- weights, a numpy array of size (num_px * num_px * 3, 1)\n",
        "    b -- bias, a scalar\n",
        "    X -- data of shape (num_px * num_px * 3, number of examples)\n",
        "    Y -- true \"label\" vector (containing 0 if non-cat, 1 if cat), of shape (1, number of examples)\n",
        "    num_iterations -- number of iterations of the optimization loop\n",
        "    learning_rate -- learning rate of the gradient descent update rule\n",
        "\"\"\"\n",
        "def optimize(w,b,X,y,num_iterations=100,learning_rate=0.01):\n",
        "  # w=np\n",
        "  # b=np.copy\n",
        "  costs=[]\n",
        "  for i in range(num_iterations):\n",
        "    grad,cost=propagate(w,b,X,y)\n",
        "    # print(f\"grad {grad}\")\n",
        "    dw=grad[\"dw\"]\n",
        "    db=grad[\"db\"]\n",
        "    w   = w - learning_rate*dw\n",
        "    b= b - learning_rate*db\n",
        "    if i % 100 == 0:\n",
        "      costs.append(cost)\n",
        "      print(f\"cost after interation {i} {cost}\")\n",
        "    \n",
        "  params={\"w\":w,\"b\":b} # Final Value of Parameters , w and b afater num_ir=terations\n",
        "  grads={\"dw\":dw,\"db\":db} \n",
        "  return params,grads,costs"
      ],
      "metadata": {
        "id": "LLBjeCZRg8wu"
      },
      "execution_count": 66,
      "outputs": []
    },
    {
      "cell_type": "code",
      "source": [
        "params, grads, costs = optimize(w, b, X, Y, num_iterations=100, learning_rate=0.009)\n",
        "\n",
        "print (\"w = \" + str(params[\"w\"]))\n",
        "print (\"b = \" + str(params[\"b\"]))\n",
        "print (\"dw = \" + str(grads[\"dw\"]))\n",
        "print (\"db = \" + str(grads[\"db\"]))\n",
        "print(\"Costs = \" + str(costs))"
      ],
      "metadata": {
        "colab": {
          "base_uri": "https://localhost:8080/"
        },
        "id": "MYDS59jzixFF",
        "outputId": "038dc0cb-1961-4483-89a8-ae6df2af7f30"
      },
      "execution_count": 67,
      "outputs": [
        {
          "output_type": "stream",
          "name": "stdout",
          "text": [
            "grad {'dw': array([[ 0.25071532],\n",
            "       [-0.06604096]]), 'db': -0.12500404500439652}\n",
            "cost after interation 0 0.15900537707692405\n",
            "w = [[0.99774356]\n",
            " [2.00059437]]\n",
            "b = 1.5011250364050395\n",
            "dw = [[ 0.25071532]\n",
            " [-0.06604096]]\n",
            "db = -0.12500404500439652\n",
            "Costs = [array(0.15900538)]\n"
          ]
        }
      ]
    },
    {
      "cell_type": "markdown",
      "source": [
        "Prediction"
      ],
      "metadata": {
        "id": "kGr3f06qkpK5"
      }
    },
    {
      "cell_type": "code",
      "source": [
        "'''\n",
        "    Predict whether the label is 0 or 1 using learned logistic regression parameters (w, b)\n",
        "    \n",
        "    Arguments:\n",
        "    w -- weights, a numpy array of size (num_px * num_px * 3, 1)\n",
        "    b -- bias, a scalar\n",
        "    X -- data of size (num_px * num_px * 3, number of examples)\n",
        "    \n",
        "'''\n",
        "def predict(w,b,X):\n",
        "  m = X.shape[1]\n",
        "  y=np.zeros((X.shape[0],m))\n",
        "  w = w.reshape(X.shape[0],1)\n",
        "  #Compute A\n",
        "  A=sigmoid(np.dot(w.T,X)+b)\n",
        "  for i in range(A.shape[-1]):\n",
        "    y[0,i]=1 if A[0,i]>=0.5 else 0\n",
        "  return y"
      ],
      "metadata": {
        "id": "8OQyRzewi7N8"
      },
      "execution_count": 74,
      "outputs": []
    },
    {
      "cell_type": "code",
      "source": [
        "w = np.array([[0.1124579], [0.23106775]])\n",
        "b = -0.3\n",
        "X = np.array([[1., -1.1, -3.2],[1.2, 2., 0.1]])\n",
        "print (\"predictions = \" + str(predict(w, b, X)))\n"
      ],
      "metadata": {
        "colab": {
          "base_uri": "https://localhost:8080/"
        },
        "id": "RmZjQtgLmgSy",
        "outputId": "5444904d-cde3-494e-ca74-aeedd7002fd6"
      },
      "execution_count": 75,
      "outputs": [
        {
          "output_type": "stream",
          "name": "stdout",
          "text": [
            "predictions = [[1. 1. 0.]\n",
            " [0. 0. 0.]]\n"
          ]
        }
      ]
    },
    {
      "cell_type": "code",
      "source": [
        "def model(X_train,Y_train, X_test, Y_test, num_iterations=100, learning_rate=0.01):\n",
        "  w,b = init_with_zeros(X_train.shape[0])\n",
        "  params, grad, costs=optimize(w,b,X_train,Y_train,10)\n",
        "  w,b = params[\"w\"], params[\"b\"]\n",
        "  Y_pred_test=predict(w,b,X_test)\n",
        "  Y_pred_train=predict(w,b,X_train)\n",
        "  # Print train/test Errors\n",
        "  if True:\n",
        "    print(\"train accuracy: {} %\".format(100 - np.mean(np.abs(Y_prediction_train - Y_train)) * 100))\n",
        "    print(\"test accuracy: {} %\".format(100 - np.mean(np.abs(Y_prediction_test - Y_test)) * 100))\n",
        "\n",
        "    \n",
        "  d = {\"costs\": costs,\"Y_prediction_test\": Y_prediction_test, \n",
        "         \"Y_prediction_train\" : Y_prediction_train, \n",
        "         \"w\" : w, \n",
        "         \"b\" : b,\n",
        "         \"learning_rate\" : learning_rate,\n",
        "         \"num_iterations\": num_iterations}\n",
        "    \n",
        "  return d"
      ],
      "metadata": {
        "id": "IeVByoRkmz78"
      },
      "execution_count": 78,
      "outputs": []
    },
    {
      "cell_type": "code",
      "source": [
        "logistic_regression_model = model(train_set_x, train_set_y, test_set_x, test_set_y, num_iterations=2000, learning_rate=0.005, print_cost=True)"
      ],
      "metadata": {
        "colab": {
          "base_uri": "https://localhost:8080/",
          "height": 164
        },
        "id": "23mdjmCxodPw",
        "outputId": "eeda238e-8150-416c-91b3-4f4a89b63845"
      },
      "execution_count": 79,
      "outputs": [
        {
          "output_type": "error",
          "ename": "NameError",
          "evalue": "ignored",
          "traceback": [
            "\u001b[0;31m---------------------------------------------------------------------------\u001b[0m",
            "\u001b[0;31mNameError\u001b[0m                                 Traceback (most recent call last)",
            "\u001b[0;32m<ipython-input-79-b8051f6b0651>\u001b[0m in \u001b[0;36m<module>\u001b[0;34m()\u001b[0m\n\u001b[0;32m----> 1\u001b[0;31m \u001b[0mlogistic_regression_model\u001b[0m \u001b[0;34m=\u001b[0m \u001b[0mmodel\u001b[0m\u001b[0;34m(\u001b[0m\u001b[0mtrain_set_x\u001b[0m\u001b[0;34m,\u001b[0m \u001b[0mtrain_set_y\u001b[0m\u001b[0;34m,\u001b[0m \u001b[0mtest_set_x\u001b[0m\u001b[0;34m,\u001b[0m \u001b[0mtest_set_y\u001b[0m\u001b[0;34m,\u001b[0m \u001b[0mnum_iterations\u001b[0m\u001b[0;34m=\u001b[0m\u001b[0;36m2000\u001b[0m\u001b[0;34m,\u001b[0m \u001b[0mlearning_rate\u001b[0m\u001b[0;34m=\u001b[0m\u001b[0;36m0.005\u001b[0m\u001b[0;34m,\u001b[0m \u001b[0mprint_cost\u001b[0m\u001b[0;34m=\u001b[0m\u001b[0;32mTrue\u001b[0m\u001b[0;34m)\u001b[0m\u001b[0;34m\u001b[0m\u001b[0;34m\u001b[0m\u001b[0m\n\u001b[0m",
            "\u001b[0;31mNameError\u001b[0m: name 'train_set_x' is not defined"
          ]
        }
      ]
    },
    {
      "cell_type": "code",
      "source": [
        "# Plot learning curve (with costs)\n",
        "costs = np.squeeze(logistic_regression_model['costs'])\n",
        "plt.plot(costs)\n",
        "plt.ylabel('cost')\n",
        "plt.xlabel('iterations (per hundreds)')\n",
        "plt.title(\"Learning rate =\" + str(logistic_regression_model[\"learning_rate\"]))\n",
        "plt.show()"
      ],
      "metadata": {
        "id": "Y32q3pwOppGq"
      },
      "execution_count": null,
      "outputs": []
    },
    {
      "cell_type": "code",
      "source": [
        "learning_rates = [0.01, 0.001, 0.0001]\n",
        "models = {}\n",
        "\n",
        "for lr in learning_rates:\n",
        "    print (\"Training a model with learning rate: \" + str(lr))\n",
        "    models[str(lr)] = model(train_set_x, train_set_y, test_set_x, test_set_y, num_iterations=1500, learning_rate=lr, print_cost=False)\n",
        "    print ('\\n' + \"-------------------------------------------------------\" + '\\n')\n",
        "\n",
        "for lr in learning_rates:\n",
        "    plt.plot(np.squeeze(models[str(lr)][\"costs\"]), label=str(models[str(lr)][\"learning_rate\"]))\n",
        "\n",
        "plt.ylabel('cost')\n",
        "plt.xlabel('iterations (hundreds)')\n",
        "\n",
        "legend = plt.legend(loc='upper center', shadow=True)\n",
        "frame = legend.get_frame()\n",
        "frame.set_facecolor('0.90')\n",
        "plt.show()"
      ],
      "metadata": {
        "id": "27orv7fiqDqM"
      },
      "execution_count": null,
      "outputs": []
    }
  ]
}